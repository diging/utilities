{
 "cells": [
  {
   "cell_type": "code",
   "execution_count": null,
   "metadata": {},
   "outputs": [],
   "source": [
    "import csv\n",
    "import requests\n",
    "import json"
   ]
  },
  {
   "cell_type": "code",
   "execution_count": null,
   "metadata": {},
   "outputs": [],
   "source": [
    "progress_id_files = '/path/to/csv/with/progress/ids'\n",
    "giles_client_token = 'giles token'\n",
    "github_token = 'personal github token'\n",
    "output_folder = '/path/to/folder/for/saved/documents'\n"
   ]
  },
  {
   "cell_type": "markdown",
   "metadata": {},
   "source": [
    "### Get a list of all progress ids"
   ]
  },
  {
   "cell_type": "code",
   "execution_count": null,
   "metadata": {},
   "outputs": [],
   "source": [
    "progress_ids = {}\n",
    "with open(progress_id_files) as csv_file:\n",
    "    csv_reader = csv.DictReader(csv_file)\n",
    "    line_count = 0\n",
    "    for row in csv_reader:\n",
    "        if line_count > 0:\n",
    "            if row['Resource'] not in progress_ids:\n",
    "                progress_ids[row['Resource']] = row['Progress ID']\n",
    "        line_count += 1\n",
    "print(\"Downloading \" + str(len(progress_ids)) + \" files\")"
   ]
  },
  {
   "cell_type": "markdown",
   "metadata": {},
   "source": [
    "### Get a temporary Giles token"
   ]
  },
  {
   "cell_type": "code",
   "execution_count": null,
   "metadata": {},
   "outputs": [],
   "source": [
    "headers = { 'Authorization': 'token ' + giles_client_token}\n",
    "data = {'providerToken': github_token}\n",
    "token_response = requests.post('https://diging.asu.edu/geco-giles/rest/token', headers=headers, data=data)\n",
    "response_text = token_response.text\n",
    "token = ''\n",
    "if token_response.status_code == 200:\n",
    "    text = json.loads(response_text)\n",
    "    token = text[\"token\"]\n",
    "print(\"Using token: \" + token)"
   ]
  },
  {
   "cell_type": "code",
   "execution_count": null,
   "metadata": {},
   "outputs": [],
   "source": [
    "### Download files"
   ]
  },
  {
   "cell_type": "code",
   "execution_count": null,
   "metadata": {},
   "outputs": [],
   "source": [
    "headers = { 'Authorization': 'token ' + token}\n",
    "\n",
    "def downloadText(upload, file):\n",
    "    if not 'extractedText' in upload:\n",
    "        print(\"Skipped \" + file)\n",
    "        return\n",
    "    \n",
    "    if upload['extractedText']['url']:\n",
    "        extracted_text = requests.get(upload['extractedText']['url'], headers=headers)\n",
    "        with open(output_folder + file + \".txt\", 'w') as f:\n",
    "            f.write(extracted_text.text)\n",
    "            print(\"Saved \" + file + \".txt\")\n",
    "                    \n",
    "for file in progress_ids:\n",
    "    prog_id = progress_ids[file]\n",
    "    if not prog_id:\n",
    "        continue\n",
    "    document = requests.get('https://diging.asu.edu/geco-giles/rest/files/upload/check/'+prog_id, headers=headers)\n",
    "    upload_info = json.loads(document.text)\n",
    "    \n",
    "    # download the text\n",
    "    for upload in upload_info:\n",
    "        downloadText(upload, file)\n"
   ]
  },
  {
   "cell_type": "code",
   "execution_count": null,
   "metadata": {},
   "outputs": [],
   "source": []
  }
 ],
 "metadata": {
  "kernelspec": {
   "display_name": "Python 3",
   "language": "python",
   "name": "python3"
  },
  "language_info": {
   "codemirror_mode": {
    "name": "ipython",
    "version": 3
   },
   "file_extension": ".py",
   "mimetype": "text/x-python",
   "name": "python",
   "nbconvert_exporter": "python",
   "pygments_lexer": "ipython3",
   "version": "3.7.4"
  }
 },
 "nbformat": 4,
 "nbformat_minor": 2
}
