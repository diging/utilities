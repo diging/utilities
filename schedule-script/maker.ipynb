{
 "cells": [
  {
   "cell_type": "code",
   "execution_count": 1,
   "metadata": {},
   "outputs": [],
   "source": [
    "from openpyxl import load_workbook, Workbook\n",
    "from openpyxl.styles import colors\n",
    "from openpyxl.styles import Font, Color, PatternFill, Alignment, Border, Side\n",
    "from datetime import time, datetime, date, timedelta\n",
    "from openpyxl.utils import get_column_letter"
   ]
  },
  {
   "cell_type": "code",
   "execution_count": 31,
   "metadata": {},
   "outputs": [
    {
     "name": "stdout",
     "output_type": "stream",
     "text": [
      "3\n",
      "Total Cells: 30.0\n"
     ]
    },
    {
     "ename": "AttributeError",
     "evalue": "'NoneType' object has no attribute 'hour'",
     "output_type": "error",
     "traceback": [
      "\u001b[0;31m---------------------------------------------------------------------------\u001b[0m",
      "\u001b[0;31mAttributeError\u001b[0m                            Traceback (most recent call last)",
      "\u001b[0;32m<ipython-input-31-145cd29d8ce1>\u001b[0m in \u001b[0;36m<module>\u001b[0;34m\u001b[0m\n\u001b[1;32m     66\u001b[0m             \u001b[0mstart_string\u001b[0m \u001b[0;34m=\u001b[0m \u001b[0mrow\u001b[0m\u001b[0;34m[\u001b[0m\u001b[0mstart\u001b[0m\u001b[0;34m]\u001b[0m\u001b[0;34m.\u001b[0m\u001b[0mvalue\u001b[0m\u001b[0;34m\u001b[0m\u001b[0;34m\u001b[0m\u001b[0m\n\u001b[1;32m     67\u001b[0m             \u001b[0mend_string\u001b[0m \u001b[0;34m=\u001b[0m \u001b[0mrow\u001b[0m\u001b[0;34m[\u001b[0m\u001b[0mend\u001b[0m\u001b[0;34m]\u001b[0m\u001b[0;34m.\u001b[0m\u001b[0mvalue\u001b[0m\u001b[0;34m\u001b[0m\u001b[0;34m\u001b[0m\u001b[0m\n\u001b[0;32m---> 68\u001b[0;31m             \u001b[0mcols_to_add\u001b[0m \u001b[0;34m=\u001b[0m \u001b[0mstart_string\u001b[0m\u001b[0;34m.\u001b[0m\u001b[0mhour\u001b[0m \u001b[0;34m-\u001b[0m \u001b[0;36m9\u001b[0m\u001b[0;34m\u001b[0m\u001b[0;34m\u001b[0m\u001b[0m\n\u001b[0m\u001b[1;32m     69\u001b[0m \u001b[0;34m\u001b[0m\u001b[0m\n\u001b[1;32m     70\u001b[0m             \u001b[0mstart_column\u001b[0m \u001b[0;34m=\u001b[0m \u001b[0;36m3\u001b[0m \u001b[0;34m+\u001b[0m \u001b[0;34m(\u001b[0m\u001b[0mcols_to_add\u001b[0m \u001b[0;34m*\u001b[0m \u001b[0;36m5\u001b[0m\u001b[0;34m)\u001b[0m\u001b[0;34m\u001b[0m\u001b[0;34m\u001b[0m\u001b[0m\n",
      "\u001b[0;31mAttributeError\u001b[0m: 'NoneType' object has no attribute 'hour'"
     ]
    }
   ],
   "source": [
    "hours_wb = load_workbook(filename = '2023_Spring_Semester_Schedule1.xlsx')\n",
    "hours_sheet = hours_wb['Sheet1']\n",
    "\n",
    "header = Font(name='Calibri', size=20, bold=True, italic=False, vertAlign=None, underline='none', strike=False, color='00000000')\n",
    "days = Font(name='Calibri', size=15, bold=True, italic=False, vertAlign=None, underline='none', strike=False, color='00000000')\n",
    "cell_aligment = Alignment(horizontal='center', vertical='center', text_rotation=0, wrap_text=False, shrink_to_fit=False, indent=0)\n",
    "time_borders = Border(left=Side(border_style='medium', color='00C0C0C0'), right=Side(border_style='medium', color='00C0C0C0'),  bottom=Side(border_style='medium', color='00C0C0C0'))\n",
    "rectangle_border = Border(left=Side(border_style='thick', color='00000000'), right=Side(border_style='thick', color='00000000'),  bottom=Side(border_style='thick', color='00000000'), top=Side(border_style='thick', color='00000000'))\n",
    "\n",
    "new_wb = Workbook()\n",
    "new_sheet = new_wb.active\n",
    "hours_col_a = hours_sheet['A']\n",
    "\n",
    "new_sheet['A1'] = 'Diging Schedule'\n",
    "new_sheet['A1'].font = header\n",
    "\n",
    "new_sheet.column_dimensions[\"A\"].width = 24\n",
    "new_sheet.column_dimensions[\"B\"].width = 8\n",
    "\n",
    "for x in range(3, 35):\n",
    "    new_sheet.column_dimensions[get_column_letter(x)].width = 4\n",
    "\n",
    "row_number = 3\n",
    "\n",
    "days_of_weeks_strings = ['Monday', 'Tuesady', 'Wednesday', 'Thursday', 'Friday']\n",
    "\n",
    "background_colors = [\"FFBA84\", '90B44B', '7DB9DE', '787D7B', '005CAF', 'EFBB24', '994639', '1B813E', '52433D', '81C7D4', '8E354A', '554236', 'F7D94C', '646A58', '7B90D2']\n",
    "\n",
    "worker_map = {}\n",
    "\n",
    "for day in days_of_weeks_strings:\n",
    "    new_sheet.cell(row=row_number, column=1, value=day).font = days\n",
    "    count = 0\n",
    "    start_column = 3\n",
    "    end_column = start_column + 3\n",
    "    time_list = ['9:00', '10:00', '11:00', '12:00', '1:00', '2:00', '3:00', '4:00', '5:00']\n",
    "    while count < 8:\n",
    "        new_sheet.cell(row=row_number, column=start_column, value=time_list[count]).alignment = cell_aligment\n",
    "        new_sheet.cell(row=row_number, column=start_column, value=time_list[count]).border = time_borders\n",
    "        new_sheet.merge_cells(start_row=row_number, start_column=start_column, end_row=row_number, end_column=end_column)\n",
    "        start_column = end_column + 1\n",
    "        end_column = start_column + 3\n",
    "        count += 1\n",
    "    row_number += 1\n",
    "    for index, name in enumerate(hours_col_a):\n",
    "        if index != 0:\n",
    "            new_sheet['A' + str(row_number)] = name.value\n",
    "            if name.value in worker_map:\n",
    "                worker_map[name.value].append(row_number)\n",
    "            else:\n",
    "                worker_map[name.value] = [row_number]\n",
    "            row_number += 1\n",
    "    row_number += 1\n",
    "\n",
    "for index, row in enumerate(hours_sheet.iter_rows()):\n",
    "    if index != 0:\n",
    "        name = row[0].value\n",
    "        max_avail_minutes = int(row[1].value) * 60\n",
    "        scheduled_minutes = 0\n",
    "        row_numbers = worker_map[name]\n",
    "        day = 1\n",
    "        start = 2\n",
    "        end = 3\n",
    "        while day < 6:\n",
    "            #change var name not called string\n",
    "            start_string = row[start].value\n",
    "            end_string = row[end].value\n",
    "            cols_to_add = start_string.hour - 9\n",
    "            \n",
    "            start_column = 3 + (cols_to_add * 5)\n",
    "            print(start_column)\n",
    "            if isinstance(start_string, time):\n",
    "                duration = datetime.combine(date.min, end_string) - datetime.combine(date.min, start_string)\n",
    "                total_cells = duration.seconds / 60 / 15\n",
    "                print(\"Total Cells: {}\".format(total_cells))\n",
    "                # current times go one cell past everytime\n",
    "                total_cells = total_cells - 1\n",
    "                temp_scheduled_minutes = scheduled_minutes\n",
    "                temp_scheduled_minutes += duration.seconds / 60\n",
    "                if temp_scheduled_minutes <= max_avail_minutes:\n",
    "                    end_column = start_column + total_cells\n",
    "                    schedule_cell = new_sheet.cell(row=row_numbers[day-1], column=start_column)\n",
    "                    schedule_cell.fill = PatternFill(\"solid\", fgColor=background_colors[index])\n",
    "                    schedule_cell.border = rectangle_border \n",
    "                    new_sheet.merge_cells(start_row=row_numbers[day-1], start_column=start_column, end_row=row_numbers[day-1], end_column=end_column)\n",
    "                    schedule_cell.value = datetime.strptime(start_string.isoformat(timespec='minutes'), \"%H:%M\").strftime(\"%I:%M %p\") +' - ' + datetime.strptime(end_string.isoformat(timespec='minutes'), \"%H:%M\").strftime(\"%I:%M %p\")\n",
    "                    new_sheet.cell(row=row_numbers[day-1], column=start_column).alignment = cell_aligment\n",
    "                    start = start + 2\n",
    "                    end = end + 2\n",
    "                    scheduled_minutes = temp_scheduled_minutes\n",
    "                else:\n",
    "                    left_mins = max_avail_minutes - scheduled_minutes\n",
    "                    if left_mins >= 120:\n",
    "                        dt = datetime.combine(date.today(), start_string) + timedelta(minutes=left_mins)\n",
    "                        total_cells = left_mins / 15\n",
    "                        total_cells = total_cells - 1\n",
    "                        end_column = start_column + total_cells\n",
    "                        m1 = 'C' + str(row_numbers[day-1]) \n",
    "                        new_sheet[m1].fill = PatternFill(\"solid\", fgColor=background_colors[index])\n",
    "                        new_sheet[m1].border = rectangle_border \n",
    "                        new_sheet.merge_cells(start_row=row_numbers[day-1], start_column=start_column, end_row=row_numbers[day-1], end_column=end_column)\n",
    "                        new_sheet[m1] = datetime.strptime(start_string.isoformat(timespec='minutes'), \"%H:%M\").strftime(\"%I:%M %p\") +' - ' + datetime.strptime(dt.time().isoformat(timespec='minutes'), \"%H:%M\").strftime(\"%I:%M %p\")\n",
    "                        new_sheet[m1].alignment = cell_aligment\n",
    "                        start = start + 2\n",
    "                        end = end + 2\n",
    "                        scheduled_minutes = temp_scheduled_minutes\n",
    "            day += 1\n",
    "\n",
    "\n",
    "\n",
    "new_wb.save(filename = 'new_schedule.xlsx')"
   ]
  },
  {
   "cell_type": "code",
   "execution_count": 34,
   "metadata": {},
   "outputs": [
    {
     "data": {
      "text/plain": [
       "False"
      ]
     },
     "execution_count": 34,
     "metadata": {},
     "output_type": "execute_result"
    }
   ],
   "source": [
    "{'dotted', 'dashDot', 'thin', 'hair', 'mediumDashDotDot', 'slantDashDot', 'double', 'medium', 'mediumDashDot', 'dashed', 'thick', 'mediumDashed', 'dashDotDot'}"
   ]
  },
  {
   "cell_type": "code",
   "execution_count": 2,
   "metadata": {},
   "outputs": [],
   "source": [
    "hours_wb = load_workbook(filename = 'hours.xlsx')\n",
    "hours_sheet = hours_wb['Sheet1']"
   ]
  },
  {
   "cell_type": "code",
   "execution_count": 5,
   "metadata": {},
   "outputs": [
    {
     "ename": "AttributeError",
     "evalue": "'tuple' object has no attribute 'value'",
     "output_type": "error",
     "traceback": [
      "\u001b[0;31m---------------------------------------------------------------------------\u001b[0m",
      "\u001b[0;31mAttributeError\u001b[0m                            Traceback (most recent call last)",
      "\u001b[0;32m<ipython-input-5-bd5deaca3328>\u001b[0m in \u001b[0;36m<module>\u001b[0;34m\u001b[0m\n\u001b[1;32m      1\u001b[0m \u001b[0;32mfor\u001b[0m \u001b[0mindex\u001b[0m\u001b[0;34m,\u001b[0m \u001b[0mrow\u001b[0m \u001b[0;32min\u001b[0m \u001b[0menumerate\u001b[0m\u001b[0;34m(\u001b[0m\u001b[0mhours_sheet\u001b[0m\u001b[0;34m.\u001b[0m\u001b[0miter_rows\u001b[0m\u001b[0;34m(\u001b[0m\u001b[0;34m)\u001b[0m\u001b[0;34m)\u001b[0m\u001b[0;34m:\u001b[0m\u001b[0;34m\u001b[0m\u001b[0;34m\u001b[0m\u001b[0m\n\u001b[1;32m      2\u001b[0m     \u001b[0;32mif\u001b[0m \u001b[0mindex\u001b[0m \u001b[0;34m!=\u001b[0m \u001b[0;36m0\u001b[0m\u001b[0;34m:\u001b[0m\u001b[0;34m\u001b[0m\u001b[0;34m\u001b[0m\u001b[0m\n\u001b[0;32m----> 3\u001b[0;31m         \u001b[0mprint\u001b[0m\u001b[0;34m(\u001b[0m\u001b[0mrow\u001b[0m\u001b[0;34m.\u001b[0m\u001b[0mvalue\u001b[0m\u001b[0;34m)\u001b[0m\u001b[0;34m\u001b[0m\u001b[0;34m\u001b[0m\u001b[0m\n\u001b[0m",
      "\u001b[0;31mAttributeError\u001b[0m: 'tuple' object has no attribute 'value'"
     ]
    }
   ],
   "source": [
    "for index, row in enumerate(hours_sheet.iter_rows()):\n",
    "    if index != 0:\n",
    "        print(row.value)"
   ]
  },
  {
   "cell_type": "code",
   "execution_count": 10,
   "metadata": {},
   "outputs": [
    {
     "ename": "TypeError",
     "evalue": "unsupported operand type(s) for -: 'datetime.time' and 'datetime.time'",
     "output_type": "error",
     "traceback": [
      "\u001b[0;31m---------------------------------------------------------------------------\u001b[0m",
      "\u001b[0;31mTypeError\u001b[0m                                 Traceback (most recent call last)",
      "\u001b[0;32m<ipython-input-10-a11007de642d>\u001b[0m in \u001b[0;36m<module>\u001b[0;34m\u001b[0m\n\u001b[0;32m----> 1\u001b[0;31m \u001b[0mrow\u001b[0m\u001b[0;34m[\u001b[0m\u001b[0;36m2\u001b[0m\u001b[0;34m]\u001b[0m\u001b[0;34m.\u001b[0m\u001b[0mvalue\u001b[0m \u001b[0;34m-\u001b[0m \u001b[0mrow\u001b[0m\u001b[0;34m[\u001b[0m\u001b[0;36m3\u001b[0m\u001b[0;34m]\u001b[0m\u001b[0;34m.\u001b[0m\u001b[0mvalue\u001b[0m\u001b[0;34m\u001b[0m\u001b[0;34m\u001b[0m\u001b[0m\n\u001b[0m",
      "\u001b[0;31mTypeError\u001b[0m: unsupported operand type(s) for -: 'datetime.time' and 'datetime.time'"
     ]
    }
   ],
   "source": [
    "row[2].value - row[3].value"
   ]
  },
  {
   "cell_type": "code",
   "execution_count": 2,
   "metadata": {},
   "outputs": [
    {
     "name": "stdout",
     "output_type": "stream",
     "text": [
      "Quarter: (32.0, 0.0)\n",
      "Quarter: (32.0, 0.0)\n",
      "Quarter: (32.0, 0.0)\n",
      "Quarter: (32.0, 0.0)\n",
      "Quarter: (32.0, 0.0)\n",
      "******************Day: 1*****************\n",
      "Start String: 09:00:00, End String: 16:30:00\n",
      "start 2: None, end 2: None\n",
      "Start Column: 3\n"
     ]
    },
    {
     "ename": "NameError",
     "evalue": "name 'total_cells' is not defined",
     "output_type": "error",
     "traceback": [
      "\u001b[0;31m---------------------------------------------------------------------------\u001b[0m",
      "\u001b[0;31mNameError\u001b[0m                                 Traceback (most recent call last)",
      "\u001b[0;32m<ipython-input-2-a935aedd74ba>\u001b[0m in \u001b[0;36m<module>\u001b[0;34m\u001b[0m\n\u001b[1;32m     90\u001b[0m                 \u001b[0mduration\u001b[0m \u001b[0;34m=\u001b[0m \u001b[0mdatetime\u001b[0m\u001b[0;34m.\u001b[0m\u001b[0mcombine\u001b[0m\u001b[0;34m(\u001b[0m\u001b[0mdate\u001b[0m\u001b[0;34m.\u001b[0m\u001b[0mmin\u001b[0m\u001b[0;34m,\u001b[0m \u001b[0mend_string\u001b[0m\u001b[0;34m)\u001b[0m \u001b[0;34m-\u001b[0m \u001b[0mdatetime\u001b[0m\u001b[0;34m.\u001b[0m\u001b[0mcombine\u001b[0m\u001b[0;34m(\u001b[0m\u001b[0mdate\u001b[0m\u001b[0;34m.\u001b[0m\u001b[0mmin\u001b[0m\u001b[0;34m,\u001b[0m \u001b[0mstart_string\u001b[0m\u001b[0;34m)\u001b[0m\u001b[0;34m\u001b[0m\u001b[0;34m\u001b[0m\u001b[0m\n\u001b[1;32m     91\u001b[0m                 \u001b[0mduration_quarter_increments\u001b[0m \u001b[0;34m=\u001b[0m \u001b[0mdivmod\u001b[0m\u001b[0;34m(\u001b[0m\u001b[0;34m(\u001b[0m\u001b[0mduration\u001b[0m\u001b[0;34m.\u001b[0m\u001b[0mtotal_seconds\u001b[0m\u001b[0;34m(\u001b[0m\u001b[0;34m)\u001b[0m\u001b[0;34m/\u001b[0m\u001b[0;36m60\u001b[0m\u001b[0;34m)\u001b[0m\u001b[0;34m,\u001b[0m \u001b[0;36m15\u001b[0m\u001b[0;34m)\u001b[0m\u001b[0;34m\u001b[0m\u001b[0;34m\u001b[0m\u001b[0m\n\u001b[0;32m---> 92\u001b[0;31m                 \u001b[0mtotal_cells\u001b[0m \u001b[0;34m=\u001b[0m \u001b[0mtotal_cells\u001b[0m \u001b[0;34m-\u001b[0m \u001b[0;36m1\u001b[0m\u001b[0;34m\u001b[0m\u001b[0;34m\u001b[0m\u001b[0m\n\u001b[0m\u001b[1;32m     93\u001b[0m                 \u001b[0mend_column\u001b[0m \u001b[0;34m=\u001b[0m \u001b[0;34m(\u001b[0m\u001b[0mstart_column\u001b[0m \u001b[0;34m+\u001b[0m \u001b[0mduration_quarter_increments\u001b[0m\u001b[0;34m[\u001b[0m\u001b[0;36m0\u001b[0m\u001b[0;34m]\u001b[0m\u001b[0;34m)\u001b[0m \u001b[0;34m-\u001b[0m \u001b[0;36m1\u001b[0m\u001b[0;34m\u001b[0m\u001b[0;34m\u001b[0m\u001b[0m\n\u001b[1;32m     94\u001b[0m                 \u001b[0mschedule_cell\u001b[0m \u001b[0;34m=\u001b[0m \u001b[0mnew_sheet\u001b[0m\u001b[0;34m.\u001b[0m\u001b[0mcell\u001b[0m\u001b[0;34m(\u001b[0m\u001b[0mrow\u001b[0m\u001b[0;34m=\u001b[0m\u001b[0mrow_numbers\u001b[0m\u001b[0;34m[\u001b[0m\u001b[0mday\u001b[0m\u001b[0;34m-\u001b[0m\u001b[0;36m1\u001b[0m\u001b[0;34m]\u001b[0m\u001b[0;34m,\u001b[0m \u001b[0mcolumn\u001b[0m\u001b[0;34m=\u001b[0m\u001b[0mstart_column\u001b[0m\u001b[0;34m)\u001b[0m\u001b[0;34m\u001b[0m\u001b[0;34m\u001b[0m\u001b[0m\n",
      "\u001b[0;31mNameError\u001b[0m: name 'total_cells' is not defined"
     ]
    }
   ],
   "source": [
    "hours_wb = load_workbook(filename = 'hours2.xlsx')\n",
    "hours_sheet = hours_wb['Sheet1']\n",
    "\n",
    "header = Font(name='Calibri', size=20, bold=True, italic=False, vertAlign=None, underline='none', strike=False, color='00000000')\n",
    "days = Font(name='Calibri', size=15, bold=True, italic=False, vertAlign=None, underline='none', strike=False, color='00000000')\n",
    "cell_aligment = Alignment(horizontal='center', vertical='center', text_rotation=0, wrap_text=False, shrink_to_fit=False, indent=0)\n",
    "time_borders = Border(left=Side(border_style='medium', color='00C0C0C0'), right=Side(border_style='medium', color='00C0C0C0'),  bottom=Side(border_style='medium', color='00C0C0C0'))\n",
    "rectangle_border = Border(left=Side(border_style='thick', color='00000000'), right=Side(border_style='thick', color='00000000'),  bottom=Side(border_style='thick', color='00000000'), top=Side(border_style='thick', color='00000000'))\n",
    "\n",
    "new_wb = Workbook()\n",
    "new_sheet = new_wb.active\n",
    "hours_col_a = hours_sheet['A']\n",
    "\n",
    "new_sheet['A1'] = 'Diging Schedule'\n",
    "new_sheet['A1'].font = header\n",
    "\n",
    "new_sheet.column_dimensions[\"A\"].width = 24\n",
    "new_sheet.column_dimensions[\"B\"].width = 8\n",
    "\n",
    "for x in range(3, 35):\n",
    "    new_sheet.column_dimensions[get_column_letter(x)].width = 4\n",
    "\n",
    "row_number = 3\n",
    "\n",
    "days_of_weeks_strings = ['Monday', 'Tuesady', 'Wednesday', 'Thursday', 'Friday']\n",
    "\n",
    "background_colors = [\"FFBA84\", '90B44B', '7DB9DE', '787D7B', '005CAF', 'EFBB24', '994639', '1B813E', '52433D', '81C7D4', '8E354A', '554236', 'F7D94C', '646A58', '7B90D2']\n",
    "\n",
    "worker_map = {}\n",
    "\n",
    "for day in days_of_weeks_strings:\n",
    "    new_sheet.cell(row=row_number, column=1, value=day).font = days\n",
    "    count = 0\n",
    "    start_column = 3\n",
    "    end_column = start_column + 3\n",
    "    # lab stats -  should be changed to be dynamic\n",
    "    lab_open_time = time(hour=9)\n",
    "    lab_close_time = time(hour=17)\n",
    "    lab_duration = datetime.combine(date.min, lab_close_time) - datetime.combine(date.min, lab_open_time)\n",
    "    # total number of 15 minute increments in lab duration - equates to total # of cells available\n",
    "    total_quarter_increments = divmod((lab_duration.total_seconds()/60), 15)\n",
    "    print(f\"Quarter: {total_quarter_increments}\")\n",
    "    time_list = ['9:00', '10:00', '11:00', '12:00', '1:00', '2:00', '3:00', '4:00', '5:00']\n",
    "    while count < 8:\n",
    "        new_sheet.cell(row=row_number, column=start_column, value=time_list[count]).alignment = cell_aligment\n",
    "        new_sheet.cell(row=row_number, column=start_column, value=time_list[count]).border = time_borders\n",
    "        new_sheet.merge_cells(start_row=row_number, start_column=start_column, end_row=row_number, end_column=end_column)\n",
    "        start_column = end_column + 1\n",
    "        end_column = start_column + 3\n",
    "        count += 1\n",
    "    row_number += 1\n",
    "    for index, name in enumerate(hours_col_a):\n",
    "        if index != 0:\n",
    "            new_sheet['A' + str(row_number)] = name.value\n",
    "            if name.value in worker_map:\n",
    "                worker_map[name.value].append(row_number)\n",
    "            else:\n",
    "                worker_map[name.value] = [row_number]\n",
    "            row_number += 1\n",
    "    row_number += 1\n",
    "\n",
    "for index, row in enumerate(hours_sheet.iter_rows()):\n",
    "    if index != 0:\n",
    "        # check if there is a name, if not consider it the end of the list\n",
    "        if not row[0].value:\n",
    "            break\n",
    "        name = row[0].value\n",
    "        max_avail_minutes = int(row[1].value) * 60\n",
    "        scheduled_minutes = 0\n",
    "        row_numbers = worker_map[name]\n",
    "        day = 1\n",
    "        start = 2\n",
    "        end = 3\n",
    "        while day < 6:\n",
    "            print(f\"******************Day: {day}*****************\")\n",
    "            start_string = row[start].value\n",
    "            if isinstance(start_string, time):\n",
    "                #change var name not called string - its a time object\n",
    "                \n",
    "                end_string = row[end].value\n",
    "                print(f\"Start String: {start_string}, End String: {end_string}\")\n",
    "                start_string_2 = row[start + 2].value\n",
    "                end_string_2 = row[end + 2].value\n",
    "                print(f\"start 2: {start_string_2}, end 2: {end_string_2}\")\n",
    "                cols_to_add = start_string.hour - 9\n",
    "\n",
    "                start_column = 3 + (cols_to_add * 5)\n",
    "                print(f\"Start Column: {start_column}\")\n",
    "                # Get durations of both days in hours\n",
    "                duration = datetime.combine(date.min, end_string) - datetime.combine(date.min, start_string)\n",
    "                duration_quarter_increments = divmod((duration.total_seconds()/60), 15)\n",
    "                total_cells = total_cells - 1\n",
    "                end_column = (start_column + duration_quarter_increments[0]) - 1\n",
    "                schedule_cell = new_sheet.cell(row=row_numbers[day-1], column=start_column)\n",
    "                schedule_cell.fill = PatternFill(\"solid\", fgColor=background_colors[index])\n",
    "                schedule_cell.border = rectangle_border \n",
    "                new_sheet.merge_cells(start_row=row_numbers[day-1], start_column=start_column, end_row=row_numbers[day-1], end_column=end_column)\n",
    "                cell_string = datetime.strptime(start_string.isoformat(timespec='minutes'), \"%H:%M\").strftime(\"%I:%M %p\") +' - ' + datetime.strptime(end_string.isoformat(timespec='minutes'), \"%H:%M\").strftime(\"%I:%M %p\")\n",
    "                if (duration.seconds / 60) > 300:\n",
    "                    print('Duration: {}'.format(duration.seconds))\n",
    "                    cell_string = cell_string + ' (1/2 hour lunch)'\n",
    "                schedule_cell.value = cell_string\n",
    "                new_sheet.cell(row=row_numbers[day-1], column=start_column).alignment = cell_aligment\n",
    "                print(f\"Duration 1: {duration}, Quarter: {day_quarter_increments}\")\n",
    "                if isinstance(start_string_2, time):\n",
    "                    duration_2 = datetime.combine(date.min, end_string_2) - datetime.combine(date.min, start_string_2)\n",
    "                    break_duration = datetime.combine(date.min, start_string_2) - datetime.combine(date.min, end_string)\n",
    "                    break_quarter_increments = divmod((break_duration.total_seconds()/60), 15)\n",
    "                    duration_2_quarter_increments = divmod((break_duration.total_seconds()/60), 15)\n",
    "                    # only start column is off by 1\n",
    "                    print(f\"Incoming Start: {start_column}, end column: {end_column}\")\n",
    "                    start_column = (end_column + break_quarter_increments[0]) + 1\n",
    "                    end_column = (start_column + duration_2_quarter_increments[0]) - 1\n",
    "                    print(f\"After Start: {start_column}, end column: {end_column}\")\n",
    "                    schedule_cell = new_sheet.cell(row=row_numbers[day-1], column=start_column)\n",
    "                    schedule_cell.fill = PatternFill(\"solid\", fgColor=background_colors[index])\n",
    "                    schedule_cell.border = rectangle_border \n",
    "                    new_sheet.merge_cells(start_row=row_numbers[day-1], start_column=start_column, end_row=row_numbers[day-1], end_column=end_column)\n",
    "                    cell_string = datetime.strptime(start_string.isoformat(timespec='minutes'), \"%H:%M\").strftime(\"%I:%M %p\") +' - ' + datetime.strptime(end_string.isoformat(timespec='minutes'), \"%H:%M\").strftime(\"%I:%M %p\")\n",
    "                    if (duration.seconds / 60) > 300:\n",
    "                        print('Duration: {}'.format(duration.seconds))\n",
    "                        cell_string = cell_string + ' (1/2 hour lunch)'\n",
    "                    schedule_cell.value = cell_string\n",
    "                    new_sheet.cell(row=row_numbers[day-1], column=start_column).alignment = cell_aligment\n",
    "                    print(f\"Duration 2: {duration_2}, break duration: {break_duration}\")\n",
    "            else:\n",
    "                print('OFF')\n",
    "\n",
    "            start = start + 4\n",
    "            end = end + 4\n",
    "\n",
    "            day += 1\n",
    "\n",
    "\n",
    "\n",
    "new_wb.save(filename = 'new_schedule.xlsx')"
   ]
  },
  {
   "cell_type": "code",
   "execution_count": 6,
   "metadata": {},
   "outputs": [
    {
     "data": {
      "text/plain": [
       "32.666666666666664"
      ]
     },
     "execution_count": 6,
     "metadata": {},
     "output_type": "execute_result"
    }
   ],
   "source": [
    "490 / 15"
   ]
  },
  {
   "cell_type": "code",
   "execution_count": 8,
   "metadata": {},
   "outputs": [
    {
     "data": {
      "text/plain": [
       "10"
      ]
     },
     "execution_count": 8,
     "metadata": {},
     "output_type": "execute_result"
    }
   ],
   "source": [
    "a = divmod(490, 15)\n",
    "a[1]"
   ]
  },
  {
   "cell_type": "code",
   "execution_count": 29,
   "metadata": {},
   "outputs": [
    {
     "data": {
      "text/plain": [
       "71"
      ]
     },
     "execution_count": 29,
     "metadata": {},
     "output_type": "execute_result"
    }
   ],
   "source": [
    "new_sheet.max_row"
   ]
  },
  {
   "cell_type": "code",
   "execution_count": null,
   "metadata": {},
   "outputs": [],
   "source": []
  }
 ],
 "metadata": {
  "kernelspec": {
   "display_name": "Python 3.10.8 ('env': venv)",
   "language": "python",
   "name": "python3"
  },
  "language_info": {
   "codemirror_mode": {
    "name": "ipython",
    "version": 3
   },
   "file_extension": ".py",
   "mimetype": "text/x-python",
   "name": "python",
   "nbconvert_exporter": "python",
   "pygments_lexer": "ipython3",
   "version": "3.10.8"
  },
  "vscode": {
   "interpreter": {
    "hash": "4bbce4e79233805df7f3af9b71dd0866dbaeb833d3322e93811bf7cc70e6a517"
   }
  }
 },
 "nbformat": 4,
 "nbformat_minor": 4
}
